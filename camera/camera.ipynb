{
 "cells": [
  {
   "cell_type": "markdown",
   "metadata": {},
   "source": [
    "# Camera capture"
   ]
  },
  {
   "cell_type": "code",
   "execution_count": 4,
   "metadata": {},
   "outputs": [
    {
     "name": "stdout",
     "output_type": "stream",
     "text": [
      "Imagen guardada: perfect_choice/cuadro/captura_0.png\n",
      "Imagen guardada: perfect_choice/cuadro/captura_1.png\n",
      "Imagen guardada: perfect_choice/cuadro/captura_2.png\n",
      "Imagen guardada: perfect_choice/cuadro/captura_3.png\n",
      "Imagen guardada: perfect_choice/cuadro/captura_4.png\n",
      "Imagen guardada: perfect_choice/cuadro/captura_5.png\n",
      "Imagen guardada: perfect_choice/cuadro/captura_6.png\n"
     ]
    }
   ],
   "source": [
    "import cv2\n",
    "import os\n",
    "\n",
    "#Comando para lista de dispositivos\n",
    "#v4l2-ctl --list-devices\n",
    "# Función para guardar una imagen en la carpeta especificada\n",
    "def guardar_imagen(frame, folder_path, img_counter):\n",
    "    if not os.path.exists(folder_path):\n",
    "        os.makedirs(folder_path)\n",
    "    img_name = os.path.join(folder_path, f\"captura_{img_counter}.png\")\n",
    "    cv2.imwrite(img_name, frame)\n",
    "    print(f\"Imagen guardada: {img_name}\")\n",
    "\n",
    "# Inicialización de captura de video\n",
    "vid = cv2.VideoCapture(0)\n",
    "\n",
    "# Contador para el nombre de las imágenes\n",
    "img_counter = 0\n",
    "\n",
    "# Carpeta donde se guardarán las imágenes\n",
    "folder_path = \"perfect_choice/cuadro/\"\n",
    "while True: \n",
    "    # Capturar frame por frame\n",
    "    ret, frame = vid.read()\n",
    "  \n",
    "    # Mostrar el frame resultante\n",
    "    cv2.imshow('frame', frame)\n",
    "      \n",
    "    # Verificar las teclas presionadas\n",
    "    key = cv2.waitKey(1) & 0xFF\n",
    "    \n",
    "    # Si se presiona la tecla 'q', salir del bucle\n",
    "    if key == ord('q'):\n",
    "        break\n",
    "    \n",
    "    # Si se presiona la barra espaciadora, guardar la imagen\n",
    "    if key == ord(' '):\n",
    "        guardar_imagen(frame, folder_path, img_counter)\n",
    "        img_counter += 1\n",
    "\n",
    "# Liberar el objeto de captura y cerrar todas las ventanas OpenCV\n",
    "vid.release()\n",
    "cv2.destroyAllWindows()"
   ]
  },
  {
   "cell_type": "markdown",
   "metadata": {},
   "source": [
    "## Camera Calibration"
   ]
  },
  {
   "cell_type": "code",
   "execution_count": 17,
   "metadata": {},
   "outputs": [
    {
     "name": "stdout",
     "output_type": "stream",
     "text": [
      "Camera matrix : \n",
      "\n",
      "[[488.14038913   0.         319.45549715]\n",
      " [  0.         486.90461255 237.52747167]\n",
      " [  0.           0.           1.        ]]\n",
      "dist : \n",
      "\n",
      "[[-0.10861338  0.51260148 -0.00627479 -0.00183073 -0.65896048]]\n",
      "rvecs : \n",
      "\n",
      "(array([[-0.43059584],\n",
      "       [-0.37931028],\n",
      "       [-1.53375766]]), array([[-0.009669  ],\n",
      "       [-0.73348296],\n",
      "       [-1.73000241]]), array([[ 0.02156296],\n",
      "       [-0.02551099],\n",
      "       [-1.53768858]]), array([[-0.19363144],\n",
      "       [ 0.08932663],\n",
      "       [-1.56623356]]), array([[ 0.1856273 ],\n",
      "       [-0.47805443],\n",
      "       [-1.55633692]]), array([[-0.34298687],\n",
      "       [-0.4090071 ],\n",
      "       [-1.59125593]]), array([[ 0.22151906],\n",
      "       [-0.12392557],\n",
      "       [-1.41615283]]), array([[ 0.25842664],\n",
      "       [-0.3312131 ],\n",
      "       [-1.42878996]]), array([[-0.14546338],\n",
      "       [ 0.00361596],\n",
      "       [-1.51186433]]), array([[-0.36029751],\n",
      "       [-0.25883089],\n",
      "       [-1.4951274 ]]), array([[-0.41978312],\n",
      "       [ 0.00192161],\n",
      "       [-1.49769548]]), array([[-0.37449098],\n",
      "       [-0.25516264],\n",
      "       [-1.52690417]]), array([[-0.53960285],\n",
      "       [ 0.29772015],\n",
      "       [-1.4649417 ]]), array([[-0.16742547],\n",
      "       [-0.46030089],\n",
      "       [-1.49371066]]), array([[ 0.06792977],\n",
      "       [-0.40740924],\n",
      "       [-1.51896838]]), array([[ 0.01620433],\n",
      "       [-0.20824016],\n",
      "       [-1.5879671 ]]), array([[-0.13960832],\n",
      "       [ 0.35950304],\n",
      "       [-1.32894899]]), array([[-0.18594516],\n",
      "       [ 0.33385188],\n",
      "       [-1.42883132]]), array([[-0.68062187],\n",
      "       [-0.79333187],\n",
      "       [-1.49432425]]))\n",
      "tvecs : \n",
      "\n",
      "(array([[-3.09278261],\n",
      "       [ 2.34050248],\n",
      "       [ 8.70932256]]), array([[-1.61226803],\n",
      "       [ 2.48015741],\n",
      "       [ 7.17622946]]), array([[-3.43695172],\n",
      "       [ 2.28571181],\n",
      "       [ 8.53773625]]), array([[-4.32000086],\n",
      "       [ 2.06241872],\n",
      "       [ 9.89469975]]), array([[-1.91362813],\n",
      "       [ 2.1672664 ],\n",
      "       [ 7.8830673 ]]), array([[-2.70176667],\n",
      "       [ 1.72868186],\n",
      "       [ 8.35249529]]), array([[-3.2350526 ],\n",
      "       [ 2.42113679],\n",
      "       [ 7.84246334]]), array([[-3.0058158 ],\n",
      "       [ 2.6648734 ],\n",
      "       [ 7.94346132]]), array([[-3.97714178],\n",
      "       [ 2.73645903],\n",
      "       [ 8.62976627]]), array([[-3.69398707],\n",
      "       [ 2.06650489],\n",
      "       [ 8.75839236]]), array([[-4.09487216],\n",
      "       [ 1.96916541],\n",
      "       [ 9.49757283]]), array([[-3.57209963],\n",
      "       [ 0.86810532],\n",
      "       [ 8.16288153]]), array([[-5.18924311],\n",
      "       [ 2.11168179],\n",
      "       [10.50803655]]), array([[-4.12764787],\n",
      "       [ 1.50168921],\n",
      "       [ 6.78725895]]), array([[-3.45011533],\n",
      "       [ 2.05631876],\n",
      "       [ 7.74740908]]), array([[-3.57447052],\n",
      "       [ 3.05993329],\n",
      "       [11.16687293]]), array([[-5.64610875],\n",
      "       [ 2.41455588],\n",
      "       [11.74861926]]), array([[-5.78825044],\n",
      "       [ 1.65383991],\n",
      "       [10.30620191]]), array([[-3.55182308],\n",
      "       [ 1.48951838],\n",
      "       [ 6.62912194]]))\n"
     ]
    }
   ],
   "source": [
    "import cv2\n",
    "import numpy as np\n",
    "import os\n",
    "import glob\n",
    " \n",
    "# Defining the dimensions of checkerboard\n",
    "CHECKERBOARD = (6,9)\n",
    "criteria = (cv2.TERM_CRITERIA_EPS + cv2.TERM_CRITERIA_MAX_ITER, 30, 0.001)\n",
    " \n",
    "# Creating vector to store vectors of 3D points for each checkerboard image\n",
    "objpoints = []\n",
    "# Creating vector to store vectors of 2D points for each checkerboard image\n",
    "imgpoints = [] \n",
    " \n",
    " \n",
    "# Defining the world coordinates for 3D points\n",
    "objp = np.zeros((1, CHECKERBOARD[0] * CHECKERBOARD[1], 3), np.float32)\n",
    "objp[0,:,:2] = np.mgrid[0:CHECKERBOARD[0], 0:CHECKERBOARD[1]].T.reshape(-1, 2)\n",
    "prev_img_shape = None\n",
    " \n",
    "# Extracting path of individual image stored in a given directory\n",
    "images = glob.glob('astra/cuadro/*.png')\n",
    "for fname in images:\n",
    "    img = cv2.imread(fname)\n",
    "    gray = cv2.cvtColor(img,cv2.COLOR_BGR2GRAY)\n",
    "    # Find the chess board corners\n",
    "    # If desired number of corners are found in the image then ret = true\n",
    "    ret, corners = cv2.findChessboardCorners(gray, CHECKERBOARD, cv2.CALIB_CB_ADAPTIVE_THRESH + cv2.CALIB_CB_FAST_CHECK + cv2.CALIB_CB_NORMALIZE_IMAGE)\n",
    "     \n",
    "    \"\"\"\n",
    "    If desired number of corner are detected,\n",
    "    we refine the pixel coordinates and display \n",
    "    them on the images of checker board\n",
    "    \"\"\"\n",
    "    if ret == True:\n",
    "        objpoints.append(objp)\n",
    "        # refining pixel coordinates for given 2d points.\n",
    "        corners2 = cv2.cornerSubPix(gray, corners, (11,11),(-1,-1), criteria)\n",
    "         \n",
    "        imgpoints.append(corners2)\n",
    " \n",
    "        # Draw and display the corners\n",
    "        img = cv2.drawChessboardCorners(img, CHECKERBOARD, corners2, ret)\n",
    "     \n",
    "    cv2.imshow('img',img)\n",
    "    cv2.waitKey(0)\n",
    " \n",
    "cv2.destroyAllWindows()\n",
    " \n",
    "h,w = img.shape[:2]\n",
    " \n",
    "\"\"\"\n",
    "Performing camera calibration by \n",
    "passing the value of known 3D points (objpoints)\n",
    "and corresponding pixel coordinates of the \n",
    "detected corners (imgpoints)\n",
    "\"\"\"\n",
    "ret, mtx, dist, rvecs, tvecs = cv2.calibrateCamera(objpoints, imgpoints, gray.shape[::-1], None, None)\n",
    " \n",
    "print(\"Camera matrix : \\n\")\n",
    "print(mtx)\n",
    "print(\"dist : \\n\")\n",
    "print(dist)\n",
    "print(\"rvecs : \\n\")\n",
    "print(rvecs)\n",
    "print(\"tvecs : \\n\")\n",
    "print(tvecs)\n"
   ]
  },
  {
   "cell_type": "code",
   "execution_count": 14,
   "metadata": {},
   "outputs": [
    {
     "data": {
      "text/plain": [
       "'astra/cuadro/captura_9.png'"
      ]
     },
     "execution_count": 14,
     "metadata": {},
     "output_type": "execute_result"
    }
   ],
   "source": [
    "fname"
   ]
  },
  {
   "cell_type": "code",
   "execution_count": 16,
   "metadata": {},
   "outputs": [
    {
     "name": "stderr",
     "output_type": "stream",
     "text": [
      "[ERROR:0@2327.172] global obsensor_uvc_stream_channel.cpp:159 getStreamChannelGroup Camera index out of range\n",
      "[ WARN:0@2327.172] global cap.cpp:342 open VIDEOIO(OBSENSOR): backend is generally available but can't be used to capture by index\n"
     ]
    }
   ],
   "source": [
    "import cv2 as cv\n",
    "\n",
    "orbbec_cap = cv.VideoCapture(2, cv.CAP_OBSENSOR)\n",
    "if orbbec_cap.isOpened() == False:\n",
    "    exit(\"Fail to open camera.\")\n",
    "\n",
    "while True:\n",
    "    if orbbec_cap.grab():\n",
    "        # RGB data\n",
    "        ret_bgr, bgr_image = orbbec_cap.retrieve(None, cv.CAP_OBSENSOR_BGR_IMAGE)\n",
    "        # depth data\n",
    "        ret_depth, depth_map = orbbec_cap.retrieve(None, cv.CAP_OBSENSOR_DEPTH_MAP)\n",
    "\n",
    "        if  ret_bgr:\n",
    "            color_depth_map = cv.applyColorMap(cv.convertScaleAbs(depth_map, alpha=0.0255), cv.COLORMAP_JET)\n",
    "            # show the images\n",
    "            cv.imshow('RBG', bgr_image)\n",
    "            cv.imshow('Depth', color_depth_map)\n",
    "        else:\n",
    "            print(\"Fail to grab data from the camera.\")\n",
    "\n",
    "        if key == ord('q'):\n",
    "            break\n",
    "\n",
    "orbbec_cap.release()"
   ]
  },
  {
   "cell_type": "markdown",
   "metadata": {},
   "source": [
    "## Copia imagenes"
   ]
  },
  {
   "cell_type": "code",
   "execution_count": 5,
   "metadata": {},
   "outputs": [],
   "source": [
    "import os\n",
    "import random\n",
    "import shutil\n",
    "\n",
    "def seleccionar_imagenes(carpeta_origen, carpeta_destino, n):\n",
    "    # Obtener lista de imágenes en la carpeta origen\n",
    "    imagenes = [f for f in os.listdir(carpeta_origen) if os.path.isfile(os.path.join(carpeta_origen, f))]\n",
    "    \n",
    "    # Verificar si el número de imágenes es mayor que cero\n",
    "    if len(imagenes) == 0:\n",
    "        print(\"No se encontraron imágenes en la carpeta de origen.\")\n",
    "        return\n",
    "    \n",
    "    # Seleccionar n números aleatorios en el rango de la cantidad de imágenes\n",
    "    n = min(n, len(imagenes))\n",
    "    indices_seleccionados = random.sample(range(len(imagenes)), n)\n",
    "    \n",
    "    # Crear la carpeta destino si no existe\n",
    "    if not os.path.exists(carpeta_destino):\n",
    "        os.makedirs(carpeta_destino)\n",
    "    \n",
    "    # Copiar las imágenes seleccionadas a la carpeta destino\n",
    "    for i in indices_seleccionados:\n",
    "        imagen_seleccionada = imagenes[i]\n",
    "        ruta_origen = os.path.join(carpeta_origen, imagen_seleccionada)\n",
    "        ruta_destino = os.path.join(carpeta_destino, imagen_seleccionada)\n",
    "        shutil.copy2(ruta_origen, ruta_destino)\n",
    "    \n",
    "    archivo_indices = carpeta_destino + '/indices_seleccionados.txt'    \n",
    "    # Guardar los índices seleccionados en un archivo .txt\n",
    "    with open(archivo_indices, 'w') as f:\n",
    "        for indice in indices_seleccionados:\n",
    "            f.write(f\"{indice}\\n\")\n",
    "    print(f\"Se copiaron {n} imágenes a la carpeta {carpeta_destino}.\")\n"
   ]
  },
  {
   "cell_type": "code",
   "execution_count": 7,
   "metadata": {},
   "outputs": [
    {
     "name": "stdout",
     "output_type": "stream",
     "text": [
      "Se copiaron 2000 imágenes a la carpeta /mnt/6C24E28478939C77/todas/seleccion.\n"
     ]
    }
   ],
   "source": [
    "# Ejemplo de uso\n",
    "carpeta_origen = '/mnt/6C24E28478939C77/todas'\n",
    "carpeta_destino = '/mnt/6C24E28478939C77/todas/seleccion'\n",
    "numero_imagenes_a_seleccionar = 2000\n",
    "\n",
    "seleccionar_imagenes(carpeta_origen, carpeta_destino, numero_imagenes_a_seleccionar)\n"
   ]
  },
  {
   "cell_type": "code",
   "execution_count": 1,
   "metadata": {},
   "outputs": [],
   "source": [
    "import serial"
   ]
  },
  {
   "cell_type": "code",
   "execution_count": 6,
   "metadata": {},
   "outputs": [
    {
     "name": "stdout",
     "output_type": "stream",
     "text": [
      "/dev/ttyUSB0\n"
     ]
    }
   ],
   "source": [
    "ser = serial.Serial('/dev/ttyUSB0')  # open serial port\n",
    "print(ser.name)         # check which port was really used\n",
    "ser.write(b'9')     # write a string\n",
    "ser.close()             # close port"
   ]
  },
  {
   "cell_type": "markdown",
   "metadata": {},
   "source": [
    "## Capturador serial"
   ]
  },
  {
   "cell_type": "code",
   "execution_count": 1,
   "metadata": {},
   "outputs": [
    {
     "name": "stdout",
     "output_type": "stream",
     "text": [
      "/dev/ttyUSB0\n",
      "Imagen guardada: prueba/captura_0.png\n",
      "Imagen guardada: prueba/prueba/captura_0.png\n",
      "Imagen guardada: prueba/captura_1.png\n",
      "Imagen guardada: prueba/prueba/captura_1.png\n",
      "Imagen guardada: prueba/captura_2.png\n",
      "Imagen guardada: prueba/prueba/captura_2.png\n",
      "Imagen guardada: prueba/captura_3.png\n",
      "Imagen guardada: prueba/prueba/captura_3.png\n",
      "Imagen guardada: prueba/captura_4.png\n",
      "Imagen guardada: prueba/prueba/captura_4.png\n",
      "Imagen guardada: prueba/captura_5.png\n",
      "Imagen guardada: prueba/prueba/captura_5.png\n"
     ]
    }
   ],
   "source": [
    "import cv2\n",
    "import os\n",
    "import serial\n",
    "\n",
    "ser = serial.Serial('/dev/ttyUSB0')  # open serial port\n",
    "print(ser.name)         # check which port was really used\n",
    "grados = 10\n",
    "# Función para guardar una imagen en la carpeta especificada\n",
    "def guardar_imagen(frame, folder_path, img_counter):\n",
    "    if not os.path.exists(folder_path):\n",
    "        os.makedirs(folder_path)\n",
    "    img_name = os.path.join(folder_path, f\"captura_{img_counter}.png\")\n",
    "    cv2.imwrite(img_name, frame)\n",
    "    print(f\"Imagen guardada: {img_name}\")\n",
    "\n",
    "# Inicialización de captura de video\n",
    "vid = cv2.VideoCapture(0)\n",
    "vid2 = cv2.VideoCapture(2)\n",
    "\n",
    "# Contador para el nombre de las imágenes\n",
    "img_counter = 0\n",
    "\n",
    "# Carpeta donde se guardarán las imágenes\n",
    "folder_path = \"prueba/\"\n",
    "while True: \n",
    "    # Capturar frame por frame\n",
    "    ret, frame = vid.read()\n",
    "    ret2, frame2 = vid2.read()\n",
    "    # Mostrar el frame resultante\n",
    "    cv2.imshow('frame', frame)\n",
    "      \n",
    "    # Verificar las teclas presionadas\n",
    "    key = cv2.waitKey(1) & 0xFF\n",
    "    \n",
    "    # Si se presiona la tecla 'q', salir del bucle\n",
    "    if key == ord('q'):\n",
    "        break\n",
    "    \n",
    "    # Si se presiona la barra espaciadora, guardar la imagen\n",
    "    if key == ord(' '):\n",
    "        guardar_imagen(frame, folder_path, img_counter)\n",
    "        guardar_imagen(frame2, folder_path + 'prueba/', img_counter)\n",
    "        img_counter += 1\n",
    "        ser.write(grados)     # write a string\n",
    "        #\n",
    "\n",
    "# Liberar el objeto de captura y cerrar todas las ventanas OpenCV\n",
    "vid.release()\n",
    "cv2.destroyAllWindows()\n",
    "ser.close()             # close port"
   ]
  },
  {
   "cell_type": "code",
   "execution_count": null,
   "metadata": {},
   "outputs": [],
   "source": []
  }
 ],
 "metadata": {
  "kernelspec": {
   "display_name": "o3d",
   "language": "python",
   "name": "python3"
  },
  "language_info": {
   "codemirror_mode": {
    "name": "ipython",
    "version": 3
   },
   "file_extension": ".py",
   "mimetype": "text/x-python",
   "name": "python",
   "nbconvert_exporter": "python",
   "pygments_lexer": "ipython3",
   "version": "3.1.undefined"
  }
 },
 "nbformat": 4,
 "nbformat_minor": 2
}
